{
 "cells": [
  {
   "cell_type": "code",
   "execution_count": 1,
   "id": "4333cc5e",
   "metadata": {},
   "outputs": [
    {
     "name": "stdout",
     "output_type": "stream",
     "text": [
      "Doğanımm\n"
     ]
    }
   ],
   "source": [
    "print(\"Doğanımm\")"
   ]
  },
  {
   "cell_type": "code",
   "execution_count": 2,
   "id": "1b238308",
   "metadata": {},
   "outputs": [
    {
     "name": "stdout",
     "output_type": "stream",
     "text": [
      "doğanımkızma\n"
     ]
    }
   ],
   "source": [
    "print(\"doğanımkızma\")"
   ]
  },
  {
   "cell_type": "code",
   "execution_count": null,
   "id": "a8db2187",
   "metadata": {},
   "outputs": [],
   "source": []
  }
 ],
 "metadata": {
  "kernelspec": {
   "display_name": "Python 3 (ipykernel)",
   "language": "python",
   "name": "python3"
  },
  "language_info": {
   "codemirror_mode": {
    "name": "ipython",
    "version": 3
   },
   "file_extension": ".py",
   "mimetype": "text/x-python",
   "name": "python",
   "nbconvert_exporter": "python",
   "pygments_lexer": "ipython3",
   "version": "3.11.5"
  }
 },
 "nbformat": 4,
 "nbformat_minor": 5
}
